{
 "cells": [
  {
   "cell_type": "code",
   "execution_count": 12,
   "metadata": {},
   "outputs": [],
   "source": [
    "from neo4j import GraphDatabase"
   ]
  },
  {
   "cell_type": "code",
   "execution_count": 13,
   "metadata": {},
   "outputs": [],
   "source": [
    "class Neo4jConnection:    \n",
    "    def __init__(self, uri, user, pwd):\n",
    "        self.__uri = uri\n",
    "        self.__user = user\n",
    "        self.__pwd = pwd\n",
    "        self.__driver = None\n",
    "        try:\n",
    "            self.__driver = GraphDatabase.driver(self.__uri, auth=(self.__user, self.__pwd))\n",
    "        except Exception as e:\n",
    "            print(\"Failed to create the driver:\", e)\n",
    "        \n",
    "    def close(self):\n",
    "        if self.__driver is not None:\n",
    "            self.__driver.close()\n",
    "        \n",
    "    def query(self, query, parameters=None, db=None):\n",
    "        assert self.__driver is not None, \"Driver not initialized!\"\n",
    "        session = None\n",
    "        response = None\n",
    "        try: \n",
    "            session = self.__driver.session(database=db) if db is not None else self.__driver.session() \n",
    "            response = list(session.run(query, parameters))\n",
    "        except Exception as e:\n",
    "            print(\"Query failed:\", e)\n",
    "        finally: \n",
    "            if session is not None:\n",
    "                session.close()\n",
    "        return response"
   ]
  },
  {
   "cell_type": "code",
   "execution_count": 14,
   "metadata": {},
   "outputs": [],
   "source": [
    "conn = Neo4jConnection(uri=\"bolt://localhost:7687\", \n",
    "                       user=\"neo4j\",              \n",
    "                       pwd=\"abcd\")"
   ]
  },
  {
   "cell_type": "markdown",
   "metadata": {},
   "source": [
    "##### Creating Products graph nodes"
   ]
  },
  {
   "cell_type": "code",
   "execution_count": 15,
   "metadata": {},
   "outputs": [],
   "source": [
    "query1 = '''LOAD CSV WITH HEADERS FROM \"https://data.neo4j.com/northwind/products.csv\" AS row\n",
    "CREATE (n:Product)\n",
    "SET n = row,\n",
    "n.unitPrice = toFloat(row.unitPrice),\n",
    "n.unitsInStock = toInteger(row.unitsInStock), n.unitsOnOrder = toInteger(row.unitsOnOrder),\n",
    "n.reorderLevel = toInteger(row.reorderLevel), n.discontinued = (row.discontinued <> \"0\")\n",
    "'''"
   ]
  },
  {
   "cell_type": "code",
   "execution_count": 16,
   "metadata": {},
   "outputs": [
    {
     "data": {
      "text/plain": [
       "[]"
      ]
     },
     "execution_count": 16,
     "metadata": {},
     "output_type": "execute_result"
    }
   ],
   "source": [
    "conn.query(query1)"
   ]
  },
  {
   "cell_type": "markdown",
   "metadata": {},
   "source": [
    "##### Creating Categories graph nodes"
   ]
  },
  {
   "cell_type": "code",
   "execution_count": 18,
   "metadata": {},
   "outputs": [],
   "source": [
    "q2 = '''LOAD CSV WITH HEADERS FROM \"https://data.neo4j.com/northwind/categories.csv\" AS row\n",
    "CREATE (n:Category)\n",
    "SET n = row'''"
   ]
  },
  {
   "cell_type": "code",
   "execution_count": 19,
   "metadata": {},
   "outputs": [
    {
     "data": {
      "text/plain": [
       "[]"
      ]
     },
     "execution_count": 19,
     "metadata": {},
     "output_type": "execute_result"
    }
   ],
   "source": [
    "conn.query(q2)"
   ]
  },
  {
   "cell_type": "markdown",
   "metadata": {},
   "source": [
    "##### Creating Suppliers graph nodes"
   ]
  },
  {
   "cell_type": "code",
   "execution_count": 20,
   "metadata": {},
   "outputs": [],
   "source": [
    "q3 = '''LOAD CSV WITH HEADERS FROM \"https://data.neo4j.com/northwind/suppliers.csv\" AS row\n",
    "CREATE (n:Supplier)\n",
    "SET n = row'''"
   ]
  },
  {
   "cell_type": "code",
   "execution_count": 21,
   "metadata": {},
   "outputs": [
    {
     "data": {
      "text/plain": [
       "[]"
      ]
     },
     "execution_count": 21,
     "metadata": {},
     "output_type": "execute_result"
    }
   ],
   "source": [
    "conn.query(q3)"
   ]
  },
  {
   "cell_type": "markdown",
   "metadata": {},
   "source": [
    "##### Creating Indices"
   ]
  },
  {
   "cell_type": "code",
   "execution_count": 22,
   "metadata": {},
   "outputs": [],
   "source": [
    "q4 = '''CREATE INDEX FOR (p:Product) ON (p.productID)'''\n",
    "q5 = '''CREATE INDEX FOR (p:Product) ON (p.productName)'''\n",
    "q6 = '''CREATE INDEX FOR (c:Category) ON (c.categoryID)'''"
   ]
  },
  {
   "cell_type": "code",
   "execution_count": 23,
   "metadata": {},
   "outputs": [
    {
     "data": {
      "text/plain": [
       "[]"
      ]
     },
     "execution_count": 23,
     "metadata": {},
     "output_type": "execute_result"
    }
   ],
   "source": [
    "conn.query(q4)\n",
    "conn.query(q5)\n",
    "conn.query(q6)"
   ]
  },
  {
   "cell_type": "code",
   "execution_count": 24,
   "metadata": {},
   "outputs": [],
   "source": [
    "q7 = '''MATCH (p:Product),(c:Category)\n",
    "WHERE p.categoryID = c.categoryID\n",
    "CREATE (p)-[:PART_OF]->(c)'''"
   ]
  },
  {
   "cell_type": "code",
   "execution_count": 25,
   "metadata": {},
   "outputs": [
    {
     "data": {
      "text/plain": [
       "[]"
      ]
     },
     "execution_count": 25,
     "metadata": {},
     "output_type": "execute_result"
    }
   ],
   "source": [
    "conn.query(q7)"
   ]
  },
  {
   "cell_type": "code",
   "execution_count": 26,
   "metadata": {},
   "outputs": [],
   "source": [
    "q8 = '''MATCH (p:Product),(s:Supplier)\n",
    "WHERE p.supplierID = s.supplierID\n",
    "CREATE (s)-[:SUPPLIES]->(p)'''"
   ]
  },
  {
   "cell_type": "code",
   "execution_count": 27,
   "metadata": {},
   "outputs": [
    {
     "data": {
      "text/plain": [
       "[]"
      ]
     },
     "execution_count": 27,
     "metadata": {},
     "output_type": "execute_result"
    }
   ],
   "source": [
    "conn.query(q8)"
   ]
  },
  {
   "cell_type": "code",
   "execution_count": 28,
   "metadata": {},
   "outputs": [],
   "source": [
    "q9 = '''MATCH (s:Supplier)-->(:Product)-->(c:Category)\n",
    "RETURN s.companyName as Company, collect(distinct c.categoryName) as Categories'''"
   ]
  },
  {
   "cell_type": "code",
   "execution_count": 29,
   "metadata": {},
   "outputs": [
    {
     "data": {
      "text/plain": [
       "[<Record Company='Bigfoot Breweries' Categories=['Beverages']>,\n",
       " <Record Company='Pavlova' Categories=['Beverages', 'Condiments', 'Confections', 'Meat/Poultry', 'Seafood']>,\n",
       " <Record Company='Aux joyeux ecclésiastiques' Categories=['Beverages']>,\n",
       " <Record Company='Karkki Oy' Categories=['Beverages', 'Confections']>,\n",
       " <Record Company='Leka Trading' Categories=['Beverages', 'Condiments', 'Grains/Cereals']>,\n",
       " <Record Company='Plutzer Lebensmittelgroßmärkte AG' Categories=['Beverages', 'Condiments', 'Grains/Cereals', 'Meat/Poultry', 'Produce']>,\n",
       " <Record Company='Refrescos Americanas LTDA' Categories=['Beverages']>,\n",
       " <Record Company='Exotic Liquids' Categories=['Beverages', 'Condiments']>,\n",
       " <Record Company=\"Forêts d'érables\" Categories=['Condiments', 'Confections']>,\n",
       " <Record Company='New Orleans Cajun Delights' Categories=['Condiments']>,\n",
       " <Record Company=\"Mayumi's\" Categories=['Condiments', 'Produce', 'Seafood']>,\n",
       " <Record Company=\"Grandma Kelly's Homestead\" Categories=['Condiments', 'Produce']>,\n",
       " <Record Company='Specialty Biscuits' Categories=['Confections']>,\n",
       " <Record Company='Zaanse Snoepfabriek' Categories=['Confections']>,\n",
       " <Record Company='Heli Süßwaren GmbH & Co. KG' Categories=['Confections']>,\n",
       " <Record Company='Norske Meierier' Categories=['Dairy Products']>,\n",
       " <Record Company='Gai pâturage' Categories=['Dairy Products']>,\n",
       " <Record Company='Formaggi Fortini s.r.l.' Categories=['Dairy Products']>,\n",
       " <Record Company=\"Cooperativa de Quesos 'Las Cabras'\" Categories=['Dairy Products']>,\n",
       " <Record Company=\"G'day\" Categories=['Grains/Cereals', 'Meat/Poultry', 'Produce']>,\n",
       " <Record Company='Pasta Buttini s.r.l.' Categories=['Grains/Cereals']>,\n",
       " <Record Company='PB Knäckebröd AB' Categories=['Grains/Cereals']>,\n",
       " <Record Company='Ma Maison' Categories=['Meat/Poultry']>,\n",
       " <Record Company='Tokyo Traders' Categories=['Meat/Poultry', 'Produce', 'Seafood']>,\n",
       " <Record Company='Svensk Sjöföda AB' Categories=['Seafood']>,\n",
       " <Record Company='Lyngbysild' Categories=['Seafood']>,\n",
       " <Record Company='New England Seafood Cannery' Categories=['Seafood']>,\n",
       " <Record Company='Escargots Nouveaux' Categories=['Seafood']>,\n",
       " <Record Company='Nord-Ost-Fisch Handelsgesellschaft mbH' Categories=['Seafood']>]"
      ]
     },
     "execution_count": 29,
     "metadata": {},
     "output_type": "execute_result"
    }
   ],
   "source": [
    "conn.query(q9)"
   ]
  },
  {
   "cell_type": "code",
   "execution_count": 30,
   "metadata": {},
   "outputs": [],
   "source": [
    "q10 = '''MATCH (c:Category {categoryName:\"Produce\"})<--(:Product)<--(s:Supplier)\n",
    "RETURN DISTINCT s.companyName as ProduceSuppliers'''"
   ]
  },
  {
   "cell_type": "code",
   "execution_count": 31,
   "metadata": {},
   "outputs": [
    {
     "data": {
      "text/plain": [
       "[<Record ProduceSuppliers=\"G'day\">,\n",
       " <Record ProduceSuppliers='Tokyo Traders'>,\n",
       " <Record ProduceSuppliers='Plutzer Lebensmittelgroßmärkte AG'>,\n",
       " <Record ProduceSuppliers=\"Mayumi's\">,\n",
       " <Record ProduceSuppliers=\"Grandma Kelly's Homestead\">]"
      ]
     },
     "execution_count": 31,
     "metadata": {},
     "output_type": "execute_result"
    }
   ],
   "source": [
    "conn.query(q10)"
   ]
  },
  {
   "cell_type": "code",
   "execution_count": 32,
   "metadata": {},
   "outputs": [],
   "source": [
    "q11 = '''LOAD CSV WITH HEADERS FROM \"https://data.neo4j.com/northwind/customers.csv\" AS row\n",
    "CREATE (n:Customer)\n",
    "SET n = row'''"
   ]
  },
  {
   "cell_type": "code",
   "execution_count": 33,
   "metadata": {},
   "outputs": [
    {
     "data": {
      "text/plain": [
       "[]"
      ]
     },
     "execution_count": 33,
     "metadata": {},
     "output_type": "execute_result"
    }
   ],
   "source": [
    "conn.query(q11)"
   ]
  },
  {
   "cell_type": "code",
   "execution_count": 34,
   "metadata": {},
   "outputs": [],
   "source": [
    "q12 = '''LOAD CSV WITH HEADERS FROM \"https://data.neo4j.com/northwind/orders.csv\" AS row\n",
    "CREATE (n:Order)\n",
    "SET n = row'''"
   ]
  },
  {
   "cell_type": "code",
   "execution_count": 35,
   "metadata": {},
   "outputs": [
    {
     "data": {
      "text/plain": [
       "[]"
      ]
     },
     "execution_count": 35,
     "metadata": {},
     "output_type": "execute_result"
    }
   ],
   "source": [
    "conn.query(q12)"
   ]
  },
  {
   "cell_type": "code",
   "execution_count": 37,
   "metadata": {},
   "outputs": [],
   "source": [
    "q13 = '''CREATE INDEX FOR (n:Customer) ON (n.customerID)'''\n",
    "q14 = '''CREATE INDEX FOR (o:Order) ON (o.orderID)'''"
   ]
  },
  {
   "cell_type": "code",
   "execution_count": 38,
   "metadata": {},
   "outputs": [
    {
     "data": {
      "text/plain": [
       "[]"
      ]
     },
     "execution_count": 38,
     "metadata": {},
     "output_type": "execute_result"
    }
   ],
   "source": [
    "conn.query(q13)\n",
    "conn.query(q14)"
   ]
  },
  {
   "cell_type": "code",
   "execution_count": 39,
   "metadata": {},
   "outputs": [],
   "source": [
    "q15 = '''MATCH (n:Customer),(o:Order)\n",
    "WHERE n.customerID = o.customerID\n",
    "CREATE (n)-[:PURCHASED]->(o)\n",
    "'''"
   ]
  },
  {
   "cell_type": "code",
   "execution_count": 40,
   "metadata": {},
   "outputs": [
    {
     "data": {
      "text/plain": [
       "[]"
      ]
     },
     "execution_count": 40,
     "metadata": {},
     "output_type": "execute_result"
    }
   ],
   "source": [
    "conn.query(q15)"
   ]
  },
  {
   "cell_type": "code",
   "execution_count": 41,
   "metadata": {},
   "outputs": [],
   "source": [
    "q16 = '''LOAD CSV WITH HEADERS FROM \"https://data.neo4j.com/northwind/order-details.csv\" AS row\n",
    "MATCH (p:Product), (o:Order)\n",
    "WHERE p.productID = row.productID AND o.orderID = row.orderID\n",
    "CREATE (o)-[details:ORDERS]->(p)\n",
    "SET details = row,\n",
    "details.quantity = toInteger(row.quantity)'''"
   ]
  },
  {
   "cell_type": "code",
   "execution_count": 42,
   "metadata": {},
   "outputs": [
    {
     "data": {
      "text/plain": [
       "[]"
      ]
     },
     "execution_count": 42,
     "metadata": {},
     "output_type": "execute_result"
    }
   ],
   "source": [
    "conn.query(q16)"
   ]
  },
  {
   "cell_type": "code",
   "execution_count": 43,
   "metadata": {},
   "outputs": [],
   "source": [
    "q17 = '''MATCH (cust:Customer)-[:PURCHASED]->(:Order)-[o:ORDERS]->(p:Product),\n",
    "  (p)-[:PART_OF]->(c:Category {categoryName:\"Produce\"})\n",
    "RETURN DISTINCT cust.contactName as CustomerName, SUM(o.quantity) AS TotalProductsPurchased'''"
   ]
  },
  {
   "cell_type": "code",
   "execution_count": 44,
   "metadata": {},
   "outputs": [
    {
     "data": {
      "text/plain": [
       "[<Record CustomerName='Maria Larsson' TotalProductsPurchased=148>,\n",
       " <Record CustomerName='Hanna Moos' TotalProductsPurchased=11>,\n",
       " <Record CustomerName='Mario Pontes' TotalProductsPurchased=35>,\n",
       " <Record CustomerName='Isabel de Castro' TotalProductsPurchased=18>,\n",
       " <Record CustomerName='Carine Schmitt' TotalProductsPurchased=3>,\n",
       " <Record CustomerName='Patricia McKenna' TotalProductsPurchased=121>,\n",
       " <Record CustomerName='Bernardo Batista' TotalProductsPurchased=17>,\n",
       " <Record CustomerName='Sergio Gutiérrez' TotalProductsPurchased=7>,\n",
       " <Record CustomerName='Horst Kloss' TotalProductsPurchased=242>,\n",
       " <Record CustomerName='Hari Kumar' TotalProductsPurchased=72>,\n",
       " <Record CustomerName='Jytte Petersen' TotalProductsPurchased=30>,\n",
       " <Record CustomerName='Zbyszek Piestrzeniewicz' TotalProductsPurchased=22>,\n",
       " <Record CustomerName='Yang Wang' TotalProductsPurchased=71>,\n",
       " <Record CustomerName='Carlos Hernández' TotalProductsPurchased=81>,\n",
       " <Record CustomerName='Thomas Hardy' TotalProductsPurchased=20>,\n",
       " <Record CustomerName='André Fonseca' TotalProductsPurchased=31>,\n",
       " <Record CustomerName='Jose Pavarotti' TotalProductsPurchased=152>,\n",
       " <Record CustomerName='Henriette Pfalzheim' TotalProductsPurchased=85>,\n",
       " <Record CustomerName='Mary Saveley' TotalProductsPurchased=45>,\n",
       " <Record CustomerName='Karin Josephs' TotalProductsPurchased=49>,\n",
       " <Record CustomerName='Martine Rancé' TotalProductsPurchased=50>,\n",
       " <Record CustomerName='Victoria Ashworth' TotalProductsPurchased=37>,\n",
       " <Record CustomerName='Laurence Lebihan' TotalProductsPurchased=118>,\n",
       " <Record CustomerName='Elizabeth Lincoln' TotalProductsPurchased=44>,\n",
       " <Record CustomerName='Guillermo Fernández' TotalProductsPurchased=50>,\n",
       " <Record CustomerName='Roland Mendel' TotalProductsPurchased=353>,\n",
       " <Record CustomerName='Fran Wilson' TotalProductsPurchased=27>,\n",
       " <Record CustomerName='Rene Phillips' TotalProductsPurchased=16>,\n",
       " <Record CustomerName='Paolo Accorti' TotalProductsPurchased=15>,\n",
       " <Record CustomerName='Michael Holz' TotalProductsPurchased=6>,\n",
       " <Record CustomerName='José Pedro Freyre' TotalProductsPurchased=40>,\n",
       " <Record CustomerName='Art Braunschweiger' TotalProductsPurchased=16>,\n",
       " <Record CustomerName='Pascale Cartrain' TotalProductsPurchased=78>,\n",
       " <Record CustomerName='Jean Fresnière' TotalProductsPurchased=30>,\n",
       " <Record CustomerName='Carlos González' TotalProductsPurchased=49>,\n",
       " <Record CustomerName='Pirkko Koskitalo' TotalProductsPurchased=70>,\n",
       " <Record CustomerName='Lúcia Carvalho' TotalProductsPurchased=50>,\n",
       " <Record CustomerName='Christina Berglund' TotalProductsPurchased=66>,\n",
       " <Record CustomerName='Catherine Dewey' TotalProductsPurchased=20>,\n",
       " <Record CustomerName='Felipe Izquierdo' TotalProductsPurchased=20>,\n",
       " <Record CustomerName='Alexander Feuer' TotalProductsPurchased=20>,\n",
       " <Record CustomerName='Annette Roulet' TotalProductsPurchased=8>,\n",
       " <Record CustomerName='Matti Karttunen' TotalProductsPurchased=3>,\n",
       " <Record CustomerName='Frédérique Citeaux' TotalProductsPurchased=30>,\n",
       " <Record CustomerName='Jonas Bergulfsen' TotalProductsPurchased=18>,\n",
       " <Record CustomerName='Maria Anders' TotalProductsPurchased=17>,\n",
       " <Record CustomerName='Palle Ibsen' TotalProductsPurchased=70>,\n",
       " <Record CustomerName='Liu Wong' TotalProductsPurchased=10>,\n",
       " <Record CustomerName='Karl Jablonski' TotalProductsPurchased=5>,\n",
       " <Record CustomerName='Patricio Simpson' TotalProductsPurchased=8>,\n",
       " <Record CustomerName='Miguel Angel Paolino' TotalProductsPurchased=14>,\n",
       " <Record CustomerName='Rita Müller' TotalProductsPurchased=4>,\n",
       " <Record CustomerName='Maurizio Moroni' TotalProductsPurchased=52>,\n",
       " <Record CustomerName='Ana Trujillo' TotalProductsPurchased=3>,\n",
       " <Record CustomerName='Georg Pipps' TotalProductsPurchased=35>,\n",
       " <Record CustomerName='Philip Cramer' TotalProductsPurchased=9>,\n",
       " <Record CustomerName='Paula Wilson' TotalProductsPurchased=77>,\n",
       " <Record CustomerName='Peter Franken' TotalProductsPurchased=51>,\n",
       " <Record CustomerName='Yoshi Latimer' TotalProductsPurchased=15>,\n",
       " <Record CustomerName='Howard Snyder' TotalProductsPurchased=3>,\n",
       " <Record CustomerName='Yvonne Moncada' TotalProductsPurchased=18>,\n",
       " <Record CustomerName='Ann Devon' TotalProductsPurchased=100>,\n",
       " <Record CustomerName='Daniel Tonini' TotalProductsPurchased=5>]"
      ]
     },
     "execution_count": 44,
     "metadata": {},
     "output_type": "execute_result"
    }
   ],
   "source": [
    "conn.query(q17)"
   ]
  },
  {
   "cell_type": "code",
   "execution_count": 45,
   "metadata": {},
   "outputs": [],
   "source": [
    "q18 = '''MATCH (cust:Customer)-[:PURCHASED]->(:Order)-[o:ORDERS]->(p:Product),\n",
    "  (p)-[:PART_OF]->(c:Category {categoryName:\"Produce\"})\n",
    "RETURN DISTINCT cust.contactName as CustomerName, SUM(o.quantity) AS TotalProductsPurchased\n",
    "ORDER BY TotalProductsPurchased DESC'''"
   ]
  },
  {
   "cell_type": "code",
   "execution_count": 49,
   "metadata": {},
   "outputs": [
    {
     "data": {
      "text/plain": [
       "'Roland Mendel'"
      ]
     },
     "execution_count": 49,
     "metadata": {},
     "output_type": "execute_result"
    }
   ],
   "source": [
    "conn.query(q18)[0]['CustomerName']"
   ]
  },
  {
   "cell_type": "code",
   "execution_count": null,
   "metadata": {},
   "outputs": [],
   "source": []
  }
 ],
 "metadata": {
  "kernelspec": {
   "display_name": "Python 3",
   "language": "python",
   "name": "python3"
  },
  "language_info": {
   "codemirror_mode": {
    "name": "ipython",
    "version": 3
   },
   "file_extension": ".py",
   "mimetype": "text/x-python",
   "name": "python",
   "nbconvert_exporter": "python",
   "pygments_lexer": "ipython3",
   "version": "3.7.3"
  }
 },
 "nbformat": 4,
 "nbformat_minor": 2
}
