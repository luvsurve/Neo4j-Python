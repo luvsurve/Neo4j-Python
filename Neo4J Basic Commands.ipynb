{
 "cells": [
  {
   "cell_type": "code",
   "execution_count": 1,
   "metadata": {},
   "outputs": [
    {
     "name": "stdout",
     "output_type": "stream",
     "text": [
      "Collecting neo4j\n",
      "  Downloading https://files.pythonhosted.org/packages/c2/30/cdf8174adbbbbde7dbb85d15efb11196a2bb50a51477436adadfbc5e6f5c/neo4j-5.0.1.tar.gz (172kB)\n",
      "Requirement already satisfied: pytz in c:\\users\\luvsu\\anaconda3\\lib\\site-packages (from neo4j) (2018.9)\n",
      "Building wheels for collected packages: neo4j\n",
      "  Building wheel for neo4j (setup.py): started\n",
      "  Building wheel for neo4j (setup.py): finished with status 'done'\n",
      "  Stored in directory: C:\\Users\\luvsu\\AppData\\Local\\pip\\Cache\\wheels\\05\\6d\\7d\\9be9222df93b8011ba8dbbb0f24fada501685d6262745ae825\n",
      "Successfully built neo4j\n",
      "Installing collected packages: neo4j\n",
      "Successfully installed neo4j-5.0.1\n"
     ]
    }
   ],
   "source": [
    "!pip install neo4j"
   ]
  },
  {
   "cell_type": "markdown",
   "metadata": {},
   "source": [
    "### Importing Libraries"
   ]
  },
  {
   "cell_type": "code",
   "execution_count": 2,
   "metadata": {},
   "outputs": [],
   "source": [
    "from neo4j import GraphDatabase"
   ]
  },
  {
   "cell_type": "markdown",
   "metadata": {},
   "source": [
    "### Establishing connection"
   ]
  },
  {
   "cell_type": "code",
   "execution_count": 3,
   "metadata": {},
   "outputs": [],
   "source": [
    "graphdb = GraphDatabase.driver(uri=\"neo4j://localhost:7687\",auth=(\"neo4j\",\"1234\"))"
   ]
  },
  {
   "cell_type": "markdown",
   "metadata": {},
   "source": [
    "### Creating a session"
   ]
  },
  {
   "cell_type": "code",
   "execution_count": 4,
   "metadata": {},
   "outputs": [],
   "source": [
    "session = graphdb.session()"
   ]
  },
  {
   "cell_type": "markdown",
   "metadata": {},
   "source": [
    "#### Using session and query to get all nodes"
   ]
  },
  {
   "cell_type": "code",
   "execution_count": 5,
   "metadata": {},
   "outputs": [],
   "source": [
    "quer1 = \"Match(n) return n\"\n",
    "all_nodes = session.run(quer1)"
   ]
  },
  {
   "cell_type": "markdown",
   "metadata": {},
   "source": [
    "#### Using session and query to get first 10 nodes"
   ]
  },
  {
   "cell_type": "code",
   "execution_count": 33,
   "metadata": {},
   "outputs": [
    {
     "name": "stdout",
     "output_type": "stream",
     "text": [
      "<Record n=<Node element_id='0' labels=frozenset({'Person'}) properties={'name': 'Emil', 'from': 'Sweden', 'kloutScore': 99}>>\n",
      "<Record n=<Node element_id='1' labels=frozenset({'Person'}) properties={'name': 'Emil', 'from': 'Sweden', 'kloutScore': 99}>>\n",
      "<Record n=<Node element_id='2' labels=frozenset({'Person'}) properties={'learn': 'surfing', 'name': 'Johan', 'from': 'Sweden'}>>\n",
      "<Record n=<Node element_id='3' labels=frozenset({'Person'}) properties={'name': 'Ian', 'from': 'England', 'title': 'author'}>>\n",
      "<Record n=<Node element_id='4' labels=frozenset({'Person'}) properties={'name': 'Rik', 'from': 'Belgium', 'pet': 'Orval'}>>\n",
      "<Record n=<Node element_id='5' labels=frozenset({'Person'}) properties={'name': 'Allison', 'from': 'California', 'hobby': 'surfing'}>>\n",
      "<Record n=<Node element_id='6' labels=frozenset({'Person'}) properties={'learn': 'surfing', 'name': 'Johan', 'from': 'Sweden'}>>\n",
      "<Record n=<Node element_id='7' labels=frozenset({'Person'}) properties={'name': 'Ian', 'from': 'England', 'title': 'author'}>>\n",
      "<Record n=<Node element_id='8' labels=frozenset({'Person'}) properties={'name': 'Rik', 'from': 'Belgium', 'pet': 'Orval'}>>\n",
      "<Record n=<Node element_id='9' labels=frozenset({'Person'}) properties={'name': 'Allison', 'from': 'California', 'hobby': 'surfing'}>>\n",
      "<Record n=<Node element_id='10' labels=frozenset({'Product'}) properties={'unitPrice': 18.0, 'unitsInStock': 39, 'reorderLevel': 10, 'supplierID': '1', 'productID': '1', 'quantityPerUnit': '10 boxes x 20 bags', 'discontinued': False, 'productName': 'Chai', 'categoryID': '1', 'unitsOnOrder': 0}>>\n",
      "<Record n=<Node element_id='11' labels=frozenset({'Product'}) properties={'unitPrice': 19.0, 'unitsInStock': 17, 'reorderLevel': 25, 'supplierID': '1', 'productID': '2', 'quantityPerUnit': '24 - 12 oz bottles', 'discontinued': False, 'productName': 'Chang', 'categoryID': '1', 'unitsOnOrder': 40}>>\n",
      "<Record n=<Node element_id='12' labels=frozenset({'Product'}) properties={'unitPrice': 10.0, 'unitsInStock': 13, 'reorderLevel': 25, 'supplierID': '1', 'productID': '3', 'quantityPerUnit': '12 - 550 ml bottles', 'discontinued': False, 'productName': 'Aniseed Syrup', 'categoryID': '2', 'unitsOnOrder': 70}>>\n",
      "<Record n=<Node element_id='13' labels=frozenset({'Product'}) properties={'unitPrice': 22.0, 'unitsInStock': 53, 'reorderLevel': 0, 'supplierID': '2', 'productID': '4', 'quantityPerUnit': '48 - 6 oz jars', 'discontinued': False, 'productName': \"Chef Anton's Cajun Seasoning\", 'categoryID': '2', 'unitsOnOrder': 0}>>\n",
      "<Record n=<Node element_id='14' labels=frozenset({'Product'}) properties={'unitPrice': 21.35, 'unitsInStock': 0, 'reorderLevel': 0, 'supplierID': '2', 'productID': '5', 'quantityPerUnit': '36 boxes', 'discontinued': True, 'productName': \"Chef Anton's Gumbo Mix\", 'categoryID': '2', 'unitsOnOrder': 0}>>\n",
      "<Record n=<Node element_id='15' labels=frozenset({'Product'}) properties={'unitPrice': 25.0, 'unitsInStock': 120, 'reorderLevel': 25, 'supplierID': '3', 'productID': '6', 'quantityPerUnit': '12 - 8 oz jars', 'discontinued': False, 'productName': \"Grandma's Boysenberry Spread\", 'categoryID': '2', 'unitsOnOrder': 0}>>\n",
      "<Record n=<Node element_id='16' labels=frozenset({'Product'}) properties={'unitsInStock': 15, 'unitPrice': 30.0, 'reorderLevel': 10, 'supplierID': '3', 'productID': '7', 'quantityPerUnit': '12 - 1 lb pkgs.', 'discontinued': False, 'productName': \"Uncle Bob's Organic Dried Pears\", 'categoryID': '7', 'unitsOnOrder': 0}>>\n",
      "<Record n=<Node element_id='17' labels=frozenset({'Product'}) properties={'unitsInStock': 6, 'unitPrice': 40.0, 'reorderLevel': 0, 'supplierID': '3', 'productID': '8', 'quantityPerUnit': '12 - 12 oz jars', 'discontinued': False, 'productName': 'Northwoods Cranberry Sauce', 'categoryID': '2', 'unitsOnOrder': 0}>>\n",
      "<Record n=<Node element_id='18' labels=frozenset({'Product'}) properties={'unitPrice': 97.0, 'unitsInStock': 29, 'reorderLevel': 0, 'supplierID': '4', 'productID': '9', 'quantityPerUnit': '18 - 500 g pkgs.', 'discontinued': True, 'productName': 'Mishi Kobe Niku', 'categoryID': '6', 'unitsOnOrder': 0}>>\n",
      "<Record n=<Node element_id='19' labels=frozenset({'Product'}) properties={'unitPrice': 31.0, 'unitsInStock': 31, 'reorderLevel': 0, 'supplierID': '4', 'productID': '10', 'quantityPerUnit': '12 - 200 ml jars', 'discontinued': False, 'productName': 'Ikura', 'categoryID': '8', 'unitsOnOrder': 0}>>\n",
      "<Record n=<Node element_id='20' labels=frozenset({'Product'}) properties={'unitPrice': 21.0, 'unitsInStock': 22, 'reorderLevel': 30, 'supplierID': '5', 'productID': '11', 'quantityPerUnit': '1 kg pkg.', 'discontinued': False, 'productName': 'Queso Cabrales', 'categoryID': '4', 'unitsOnOrder': 30}>>\n",
      "<Record n=<Node element_id='21' labels=frozenset({'Product'}) properties={'unitPrice': 38.0, 'unitsInStock': 86, 'reorderLevel': 0, 'supplierID': '5', 'productID': '12', 'quantityPerUnit': '10 - 500 g pkgs.', 'discontinued': False, 'productName': 'Queso Manchego La Pastora', 'categoryID': '4', 'unitsOnOrder': 0}>>\n",
      "<Record n=<Node element_id='22' labels=frozenset({'Product'}) properties={'unitPrice': 6.0, 'unitsInStock': 24, 'reorderLevel': 5, 'supplierID': '6', 'productID': '13', 'quantityPerUnit': '2 kg box', 'discontinued': False, 'productName': 'Konbu', 'categoryID': '8', 'unitsOnOrder': 0}>>\n",
      "<Record n=<Node element_id='23' labels=frozenset({'Product'}) properties={'unitPrice': 23.25, 'unitsInStock': 35, 'reorderLevel': 0, 'supplierID': '6', 'productID': '14', 'quantityPerUnit': '40 - 100 g pkgs.', 'discontinued': False, 'productName': 'Tofu', 'categoryID': '7', 'unitsOnOrder': 0}>>\n",
      "<Record n=<Node element_id='24' labels=frozenset({'Product'}) properties={'unitPrice': 15.5, 'unitsInStock': 39, 'reorderLevel': 5, 'supplierID': '6', 'productID': '15', 'quantityPerUnit': '24 - 250 ml bottles', 'discontinued': False, 'productName': 'Genen Shouyu', 'categoryID': '2', 'unitsOnOrder': 0}>>\n",
      "<Record n=<Node element_id='25' labels=frozenset({'Product'}) properties={'unitPrice': 17.45, 'unitsInStock': 29, 'reorderLevel': 10, 'supplierID': '7', 'productID': '16', 'quantityPerUnit': '32 - 500 g boxes', 'discontinued': False, 'productName': 'Pavlova', 'categoryID': '3', 'unitsOnOrder': 0}>>\n",
      "<Record n=<Node element_id='26' labels=frozenset({'Product'}) properties={'unitPrice': 39.0, 'unitsInStock': 0, 'reorderLevel': 0, 'supplierID': '7', 'productID': '17', 'quantityPerUnit': '20 - 1 kg tins', 'discontinued': True, 'productName': 'Alice Mutton', 'categoryID': '6', 'unitsOnOrder': 0}>>\n",
      "<Record n=<Node element_id='27' labels=frozenset({'Product'}) properties={'unitPrice': 62.5, 'unitsInStock': 42, 'reorderLevel': 0, 'supplierID': '7', 'productID': '18', 'quantityPerUnit': '16 kg pkg.', 'discontinued': False, 'productName': 'Carnarvon Tigers', 'categoryID': '8', 'unitsOnOrder': 0}>>\n",
      "<Record n=<Node element_id='28' labels=frozenset({'Product'}) properties={'unitsInStock': 25, 'unitPrice': 9.2, 'reorderLevel': 5, 'supplierID': '8', 'productID': '19', 'quantityPerUnit': '10 boxes x 12 pieces', 'discontinued': False, 'productName': 'Teatime Chocolate Biscuits', 'categoryID': '3', 'unitsOnOrder': 0}>>\n",
      "<Record n=<Node element_id='29' labels=frozenset({'Product'}) properties={'unitPrice': 81.0, 'unitsInStock': 40, 'reorderLevel': 0, 'supplierID': '8', 'productID': '20', 'quantityPerUnit': '30 gift boxes', 'discontinued': False, 'productName': \"Sir Rodney's Marmalade\", 'categoryID': '3', 'unitsOnOrder': 0}>>\n"
     ]
    }
   ],
   "source": [
    "quer2 = \"Match(n) return n limit 30\"\n",
    "nodes_10 = session.run(quer2)\n",
    "for nodes in nodes_10:\n",
    "    print(nodes)"
   ]
  },
  {
   "cell_type": "markdown",
   "metadata": {},
   "source": [
    "#### Searching with properties\n",
    "    \n",
    "    "
   ]
  },
  {
   "cell_type": "code",
   "execution_count": 32,
   "metadata": {},
   "outputs": [
    {
     "name": "stdout",
     "output_type": "stream",
     "text": [
      "<Record N=<Node element_id='4' labels=frozenset({'Person'}) properties={'name': 'Rik', 'from': 'Belgium', 'pet': 'Orval'}>>\n",
      "<Record N=<Node element_id='8' labels=frozenset({'Person'}) properties={'name': 'Rik', 'from': 'Belgium', 'pet': 'Orval'}>>\n"
     ]
    }
   ],
   "source": [
    "quer3 = \"MATCH (N) where N.name = 'Rik' return (N)\"\n",
    "specl_quer = session.run(quer3)\n",
    "for node in specl_quer:\n",
    "    print(node)"
   ]
  },
  {
   "cell_type": "code",
   "execution_count": 34,
   "metadata": {},
   "outputs": [
    {
     "name": "stdout",
     "output_type": "stream",
     "text": [
      "<Record N=<Node element_id='26' labels=frozenset({'Product'}) properties={'unitPrice': 39.0, 'unitsInStock': 0, 'reorderLevel': 0, 'supplierID': '7', 'productID': '17', 'quantityPerUnit': '20 - 1 kg tins', 'discontinued': True, 'productName': 'Alice Mutton', 'categoryID': '6', 'unitsOnOrder': 0}>>\n"
     ]
    }
   ],
   "source": [
    "quer4 = \"MATCH (N) where N.unitPrice = 39 return (N)\"\n",
    "specl_quer = session.run(quer4)\n",
    "for node in specl_quer:\n",
    "    print(node)"
   ]
  },
  {
   "cell_type": "markdown",
   "metadata": {},
   "source": [
    "#### Deleting Nodes"
   ]
  },
  {
   "cell_type": "code",
   "execution_count": 35,
   "metadata": {},
   "outputs": [],
   "source": [
    "quer5 = \"MATCH(N) WHERE N.name = 'Rik' DETACH DELETE(N)\"\n",
    "del_quer = session.run(quer5)"
   ]
  },
  {
   "cell_type": "code",
   "execution_count": 36,
   "metadata": {},
   "outputs": [],
   "source": [
    "quer3 = \"MATCH (N) where N.name = 'Rik' return (N)\"\n",
    "specl_quer = session.run(quer3)\n",
    "for node in specl_quer:\n",
    "    print(node)"
   ]
  },
  {
   "cell_type": "code",
   "execution_count": 37,
   "metadata": {},
   "outputs": [
    {
     "data": {
      "text/plain": [
       "neo4j._data.Record"
      ]
     },
     "execution_count": 37,
     "metadata": {},
     "output_type": "execute_result"
    }
   ],
   "source": [
    "type(node)"
   ]
  },
  {
   "cell_type": "code",
   "execution_count": null,
   "metadata": {},
   "outputs": [],
   "source": []
  }
 ],
 "metadata": {
  "kernelspec": {
   "display_name": "Python 3",
   "language": "python",
   "name": "python3"
  },
  "language_info": {
   "codemirror_mode": {
    "name": "ipython",
    "version": 3
   },
   "file_extension": ".py",
   "mimetype": "text/x-python",
   "name": "python",
   "nbconvert_exporter": "python",
   "pygments_lexer": "ipython3",
   "version": "3.7.3"
  }
 },
 "nbformat": 4,
 "nbformat_minor": 2
}
